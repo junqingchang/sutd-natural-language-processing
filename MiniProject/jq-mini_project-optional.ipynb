{
 "cells": [
  {
   "cell_type": "markdown",
   "metadata": {
    "colab_type": "text",
    "id": "eguRLcITvcDC"
   },
   "source": [
    "![sutd](img/sutd.png)\n",
    "## <center>50.040 Natural Language Processing, Summer 2019<center>\n",
    "<center>**Mini Project**\n",
    "\n",
    "<center>**Due 17 June 2019, 5pm** <center>"
   ]
  },
  {
   "cell_type": "markdown",
   "metadata": {
    "colab_type": "text",
    "id": "XohtuQnYvcDD"
   },
   "source": [
    "**Write your student ID and name**\n",
    "\n",
    "ID: 1002088\n",
    "\n",
    "Name: Chang Jun Qing\n",
    "\n",
    "Students with whom you have discussed (if any): (For optional Part) Koh Jing Yu"
   ]
  },
  {
   "cell_type": "markdown",
   "metadata": {
    "colab_type": "text",
    "id": "TXgB1hBCvcDE"
   },
   "source": [
    "## Introduction\n",
    "\n",
    "Language models are very useful for a wide range of applications, e.g., speech recognition and machine translation. Consider a sentence consisting of words $x_1, x_2, …, x_m$, where $m$ is the length of the sentence, the goal of language modeling is to model the probability of the sentence, where $m \\geq 1$, $x_i \\in V $ and $V$ is the vocabulary of the corpus:\n",
    "$$p(x_1, x_2, …, x_m)$$\n",
    "In this project, we are going to explore both statistical language model and neural language model on the [Wikitext-2](https://blog.einstein.ai/the-wikitext-long-term-dependency-language-modeling-dataset/) datasets.\n",
    "\n",
    "## Statistical  Language Model\n",
    "\n",
    "A simple way is to view words as independent random variables (i.e., zero-th order Markovian assumption). The joint probability can be written as:\n",
    "$$p(x_1, x_2, …, x_m)=\\prod_{i=1}^m p(x_i)$$\n",
    "However, this model ignores the word order information, to account for which, under the first-order Markovian assumption, the joint probability can be written as:\n",
    "$$p(x_0, x_1, x_2, …, x_m)= \\prod_{i=1}^{m}p(x_i \\mid x_{i-1})$$\n",
    "Under the second-order Markovian assumption, the joint probability can be written as:\n",
    "$$p(x_{-1}, x_0, x_1, x_2, …, x_m)= \\prod_{i=1}^{m}p(x_i \\mid x_{i-2}, x_{i-1})$$\n",
    "Similar to what we did in HMM, we will assume that $x_{-1}=START, x_0=START, x_m = STOP$ in this definition, where $START, STOP$ are special symbols referring to the start and the end of a sentence.\n",
    "\n",
    "\n",
    "\n",
    "\n",
    "\n"
   ]
  },
  {
   "cell_type": "markdown",
   "metadata": {
    "colab_type": "text",
    "id": "FrI5BkjQvcDE"
   },
   "source": [
    "### Parameter estimation\n",
    "\n",
    "Let's use $count(u)$ to denote the number of times the unigram $u$ appears in the corpus, use $count(v, u)$ to denote the number of times the bigram $v, u$ appears in the corpus, and $count(w, v, u)$ the times the trigram $w, v, u$ appears in the corpus, $u \\in V \\cup STOP$ and $w, v \\in V \\cup START$.\n",
    "\n",
    "And the parameters of the unigram, bigram and trigram models can be obtained using maximum likelihood estimation (MLE).\n",
    "\n",
    "- In the unigram model, the parameters can be estimated as: $$p(u) = \\frac {count(u)}{c}$$, where $c$ is the total number of words in the corpus.\n",
    "- In the bigram model, the parameters can be estimated as:\n",
    "$$p(u \\mid v) = \\frac{count(v, u)}{count(v)}$$\n",
    "- In the trigram model, the parameters can be estimated as:\n",
    "$$p(u \\mid w, v) = \\frac{count(w, v, u)}{count(w, v)}$$\n",
    "\n",
    "\n"
   ]
  },
  {
   "cell_type": "markdown",
   "metadata": {
    "colab_type": "text",
    "id": "vHhHxIs3vcDF"
   },
   "source": [
    "### Smoothing the parameters\n",
    "Note, it is likely that many parameters of bigram and trigram models will be 0 because the relevant bigrams and trigrams involved do not appear in the corpus. If you don't have a way to handle these 0 probabilities, all the sentences that include such bigrams or trigrams will have probabilities of 0.\n",
    "\n",
    "We'll use a Add-k Smoothing method to fix this problem, the smoothed parameter can be estimated as:\n",
    "$$p_{add-k}(u)= \\frac{count(u)+k}{c+k|V^*|}$$\n",
    "$$p_{add-k}(u \\mid v)= \\frac{count(v, u)+k}{count(v)+k|V^*|}$$\n",
    "$$p_{add-k}(u \\mid w, v)= \\frac{count(w, v, u)+k}{count(w, v)+k|V^*|}$$\n",
    "\n",
    "where $k \\in (0, 1)$ is the parameter of this approach, and $|V^*|$ is the size of the vocabulary $V^*$,here $V^*= V \\cup STOP$. One way to choose the value of $k$ is by\n",
    "optimizing the perplexity of the development set, namely to choose the value that minimizes the perplexity.\n",
    "\n"
   ]
  },
  {
   "cell_type": "markdown",
   "metadata": {
    "colab_type": "text",
    "id": "LEndU6WUvcDG"
   },
   "source": [
    "### Perplexity\n",
    "\n",
    "Given a test set $D^{\\prime}$ consisting of sentences $X^{(1)}, X^{(2)}, …, X^{(|D^{\\prime}|)}$, each sentence $X^{(j)}$ consists of words $x_1^{(j)}, x_2^{(j)},…,x_{n_j}^{(j)}$, we can measure the probability of each sentence $s_i$, and the quality of the language model would be the probability it assigns to the entire set of test sentences, namely:\n",
    "$$\\prod_j^{D^{\\prime}}p(X^{(j)})$$\n",
    "Let's define average log2 probability as:\n",
    "$$l=\\frac{1}{c^{\\prime}}\\sum_{j=1}^{|D^{\\prime}|}log_2p(X^{(j)})$$\n",
    "$c^{\\prime}$ is the total number of words in the test set, $D^{\\prime}$ is the number of sentences. And the perplexity is defined as:\n",
    "$$perplexity=2^{-l}$$\n",
    "\n",
    "The lower the perplexity, the better the language model."
   ]
  },
  {
   "cell_type": "markdown",
   "metadata": {
    "colab_type": "text",
    "collapsed": true,
    "id": "CQWnVqdpvcDW"
   },
   "source": [
    "## Neural Language Model\n",
    "\n",
    "Using the chain rule, the probability of a sentence consisting of words $x_1, x_2, ..., x_n$ can be represented as:\n",
    "\n",
    "$$p(x_1, x_2, ..., x_n) = \\prod_{i=1}^n p(x_t \\mid x_{t-1}, ..., x_1)$$\n",
    "\n",
    "Assume that we can use a hidden vector $h_t\\in R^d$ of a recurrent neural network (RNN) to record the history information of words:\n",
    "$$h_t = RNN(x_t, h_{t-1})$$\n",
    "\n",
    "The conditional probability of word $x_{t+1}$ can be parameterized as:\n",
    "$$p(x_{t+1} \\mid x_{t}, x_{t-1}, ..., x_1) \\propto exp(f(w_{x_{t+1}}h_{t}))$$\n",
    "\n",
    "$d$ is the dimension size of the hidden layer, $|V|$ is the size of the vocabulary. $f$ is a fully-connected layer, where $w \\in R^{|V| \\times d}$ are the parameters, $w_{x_{t+1}}$ is the parameter in the row that corresponds to the index of $x_{t+1}$ in the vocabulary, the bias is omitted. \n",
    "\n"
   ]
  },
  {
   "cell_type": "markdown",
   "metadata": {
    "colab_type": "text",
    "id": "XxPPwO22vcDX"
   },
   "source": [
    "#### Task 5 (12 points)\n",
    "We will create a LSTM language model, and train it on the [Wikitext-2](https://blog.einstein.ai/the-wikitext-long-term-dependency-language-modeling-dataset/) dataset. The data generators(train_iter, valid_iter, test_iter) and the LSTM model(in the file \"lstm\\_model.py\") have been provided. The word embeddings together with the parameters in the LSTM model will be learned from scratch.\n",
    "Our tasks:\n",
    "- Complete the training and evaluating code, tune hyperparameters on the validation data, then compute the perplexity of the test data. The test perplexity should be below 150. (5 points)\n",
    "- Visualize word embeddings trained by our language model as in Homework 1, try to find patterns, i.e., are similar words clustering? (2 points)\n",
    "- Implement a 2-layer bidirectional LSTM language model as shown in Fig 1, train the language model from both directions, compute the perplexity of the test data for each direction. Note, the forward and backward LSTMs do not share parameters, and the outputs from the previous layer can be only passed to the next layer in the same direction. (5 points)\n",
    "![bilstm](img/bilstm.png)\n",
    "\n",
    "<center>Fig 1: 2-layer Bidirectionl LSTM Language Model Architecture\n",
    "\n",
    "The START and STOP symbols have been added to the sentences in the generators, and the second dimension of the outputs of generators is the index of the batch.\n",
    "\n",
    "[Pytorch](https://pytorch.org/tutorials/) is required in this part. Do not make any changes to the provided code unless you are requested to do so. "
   ]
  },
  {
   "cell_type": "markdown",
   "metadata": {
    "colab_type": "text",
    "id": "fnv7aiLnvcDv"
   },
   "source": [
    "#### Task 6 (Optional, 6 points)\n",
    "We can train our 2-layer bidirectional LSTM language model on a relatively large dataset [wikitext-103](https://s3.amazonaws.com/research.metamind.io/wikitext/wikitext-103-v1.zip) and explore some interesting characteristics of the model. Our tasks:\n",
    "- Generate a piece of text ending with the STOP symbol but no more than 50 words given the START symbol, check whether it is fluent or not based on your tuition.\n",
    "- Feed each sentence of the movie reviews in homework 1 to our language model, concatenate the outputs of forward and backward LSTMs as the contextualized embedding for each word in the sentence.\n",
    "- Train the provided RNN Classifier in homework 1 based on the contextualized word embeddings of the train set, tune parameters on the development set and evaluate the performances on the test set.\n",
    "- Consider “play”, a highly polysemous word, find 20 sentences including \"play\", half of them refer to the verb, and half of them refer to the noun. Visualize the contextualized embeddings of \"play\" in the sentences, check whether the embeddings can capture the contextual information or not.\n",
    "\n",
    "References: \n",
    "\n",
    "- [EXPLORING THE LIMITS OF LANGUAGE MODELING](https://arxiv.org/pdf/1602.02410.pdf)\n",
    "- [IMPROVING NEURAL LANGUAGE MODELS WITH A CONTINUOUS CACHE](https://arxiv.org/pdf/1612.04426.pdf)\n",
    "- [LEARNING LONGER MEMORY IN RECURRENT NEURAL NETWORKS](https://arxiv.org/pdf/1412.7753.pdf)"
   ]
  },
  {
   "cell_type": "code",
   "execution_count": 1,
   "metadata": {
    "colab": {},
    "colab_type": "code",
    "id": "n_MbV5hEvcDw"
   },
   "outputs": [],
   "source": [
    "##Write your code here\n",
    "#load packages\n",
    "import torchtext\n",
    "import torch\n",
    "from torchtext.datasets import WikiText103\n",
    "from torch import nn, optim\n",
    "from torchtext import data\n",
    "from nltk import word_tokenize\n",
    "from lstm_model import LSTMModel\n",
    "torch.manual_seed(222)\n",
    "import math\n",
    "import sys\n"
   ]
  },
  {
   "cell_type": "code",
   "execution_count": 3,
   "metadata": {},
   "outputs": [
    {
     "name": "stdout",
     "output_type": "stream",
     "text": [
      "Vocabulary size: 229329\n"
     ]
    }
   ],
   "source": [
    "def tokenizer(text):\n",
    "    '''Tokenize a string to words'''\n",
    "    return word_tokenize(text)\n",
    "\n",
    "#Load and split data into three parts\n",
    "TEXT = data.Field(lower=True, tokenize=tokenizer, init_token='<START>')\n",
    "\n",
    "train, valid, test = WikiText103.splits(TEXT) \n",
    "\n",
    "#Build a vocabulary from the train dataset\n",
    "TEXT.build_vocab(train) \n",
    "# Limiting the max size as there are many words with occurance 1 only.\n",
    "print('Vocabulary size:', len(TEXT.vocab))\n",
    "\n",
    "#Create data generators\n",
    "BATCH_SIZE = 16\n",
    "BPTT_LEN = 32#the length of a text feeding to the RNN layer\n",
    "train_iter, valid_iter, test_iter = data.BPTTIterator.splits(\n",
    "    (train, valid, test),\n",
    "    batch_size=BATCH_SIZE,\n",
    "    bptt_len=BPTT_LEN,\n",
    "    repeat=False)\n",
    "\n",
    "emb_size = 128\n",
    "hidden_size = 128\n",
    "dropout = 0.2\n",
    "num_layer = 2\n",
    "learning_rate = 0.01\n",
    "epochs = 5\n",
    "\n",
    "use_cuda = torch.cuda.is_available()\n",
    "device = torch.device('cuda' if use_cuda else 'cpu')"
   ]
  },
  {
   "cell_type": "code",
   "execution_count": 12,
   "metadata": {},
   "outputs": [
    {
     "name": "stdout",
     "output_type": "stream",
     "text": [
      "Counts of words with 0-100 counts [0, 113, 37, 36975, 23547, 16063, 12312, 9737, 7911, 6629, 5646, 4895, 4353, 3831, 3445, 3131, 2935, 2475, 2484, 2222, 1969, 1865, 1737, 1568, 1529, 1435, 1324, 1294, 1235, 1132, 1131, 1083, 1044, 949, 968, 877, 885, 840, 803, 733, 734, 688, 695, 640, 649, 629, 615, 617, 556, 586, 535, 508, 480, 527, 486, 499, 457, 420, 434, 414, 397, 409, 398, 386, 423, 417, 343, 333, 296, 342, 324, 331, 320, 283, 314, 322, 302, 231, 300, 259, 306, 251, 272, 259, 263, 232, 272, 244, 247, 245, 222, 236, 228, 223, 219, 233, 218, 178, 194, 188, 227]\n"
     ]
    },
    {
     "data": {
      "image/png": "[encoded data removed]",
      "text/plain": [
       "<Figure size 432x288 with 1 Axes>"
      ]
     },
     "metadata": {
      "needs_background": "light"
     },
     "output_type": "display_data"
    }
   ],
   "source": [
    "import matplotlib.pyplot as plt\n",
    "counts = [0] * (TEXT.vocab.freqs.most_common(1)[0][1]+1)\n",
    "for key in TEXT.vocab.freqs:\n",
    "    counts[TEXT.vocab.freqs[key]] += 1\n",
    "print('Counts of words with 0-100 counts', counts[:101])\n",
    "plt.plot(range(len(counts)), counts)\n",
    "plt.title('Word Count Frequencies')\n",
    "plt.xlabel('Count')\n",
    "plt.ylabel('Frequency')\n",
    "plt.show()"
   ]
  },
  {
   "cell_type": "markdown",
   "metadata": {},
   "source": [
    "## We can see that a bulk of the words have very low count, so we will reduce the vocab size to exclude these words"
   ]
  },
  {
   "cell_type": "code",
   "execution_count": 13,
   "metadata": {},
   "outputs": [
    {
     "name": "stdout",
     "output_type": "stream",
     "text": [
      "Vocabulary size: 50003\n"
     ]
    }
   ],
   "source": [
    "def tokenizer(text):\n",
    "    '''Tokenize a string to words'''\n",
    "    return word_tokenize(text)\n",
    "\n",
    "#Load and split data into three parts\n",
    "TEXT = data.Field(lower=True, tokenize=tokenizer, init_token='<START>')\n",
    "\n",
    "train, valid, test = WikiText103.splits(TEXT) \n",
    "\n",
    "#Build a vocabulary from the train dataset\n",
    "TEXT.build_vocab(train, max_size=50000) \n",
    "# Limiting the max size as there are many words with occurance 1 only.\n",
    "print('Vocabulary size:', len(TEXT.vocab))\n",
    "\n",
    "#Create data generators\n",
    "BATCH_SIZE = 16\n",
    "BPTT_LEN = 32#the length of a text feeding to the RNN layer\n",
    "train_iter, valid_iter, test_iter = data.BPTTIterator.splits(\n",
    "    (train, valid, test),\n",
    "    batch_size=BATCH_SIZE,\n",
    "    bptt_len=BPTT_LEN,\n",
    "    repeat=False)\n",
    "\n",
    "emb_size = 128\n",
    "hidden_size = 128\n",
    "dropout = 0.2\n",
    "num_layer = 2\n",
    "learning_rate = 0.01\n",
    "epochs = 5\n",
    "\n",
    "use_cuda = torch.cuda.is_available()\n",
    "device = torch.device('cuda' if use_cuda else 'cpu')"
   ]
  },
  {
   "cell_type": "markdown",
   "metadata": {},
   "source": [
    "## Training of the model was done on a cluster, thus the outputs are not shown here. Refer to log3.txt for the outputs"
   ]
  },
  {
   "cell_type": "code",
   "execution_count": 19,
   "metadata": {},
   "outputs": [],
   "source": [
    "def train(train_iter, model, optimizer, criterion, BATCH_SIZE, device):\n",
    "    model.train()\n",
    "    total_loss = 0   \n",
    "    for batch in iter(train_iter):\n",
    "        optimizer.zero_grad()\n",
    "        data, target = batch.text.to(device), batch.target.to(device)\n",
    "        hidden = model.init_hidden(BATCH_SIZE)\n",
    "        output, hidden = model(data, hidden)\n",
    "        output = torch.transpose(output, 1, 2)\n",
    "        loss = criterion(output, target)\n",
    "        total_loss += loss.item()\n",
    "        loss.backward()\n",
    "        optimizer.step()\n",
    "    return total_loss/len(train_iter)\n",
    "\n",
    "def test(test_iter, model, criterion, BATCH_SIZE, device):\n",
    "    model.eval()\n",
    "    total_loss = 0\n",
    "    with torch.no_grad():\n",
    "        for batch in iter(test_iter):\n",
    "            data, target = batch.text.to(device), batch.target.to(device)\n",
    "            hidden = model.init_hidden(BATCH_SIZE)\n",
    "            output, hidden = model(data, hidden)\n",
    "            output = torch.transpose(output, 1, 2)\n",
    "            loss = criterion(output, target)\n",
    "            total_loss += loss.item()\n",
    "    return total_loss/len(test_iter), math.exp(total_loss/len(test_iter))\n",
    "\n",
    "def backward_train(train_iter, model, optimizer, criterion, BATCH_SIZE, device):\n",
    "    model.train()\n",
    "    total_loss = 0   \n",
    "    for batch in iter(train_iter):\n",
    "        optimizer.zero_grad()\n",
    "        data, target = torch.flip(batch.text, (0,1)).to(device),torch.flip(batch.target, (0,1)).to(device)\n",
    "        hidden = model.init_hidden(BATCH_SIZE)\n",
    "        output, hidden = model(target, hidden)\n",
    "        output = torch.transpose(output, 1, 2)\n",
    "        loss = criterion(output, data)\n",
    "        total_loss += loss.item()\n",
    "        loss.backward()\n",
    "        optimizer.step()\n",
    "    return total_loss/len(train_iter)\n",
    "\n",
    "def backward_test(test_iter, model, criterion, BATCH_SIZE, device):\n",
    "    model.eval()\n",
    "    total_loss = 0\n",
    "    with torch.no_grad():\n",
    "        for batch in iter(test_iter):\n",
    "            data, target = torch.flip(batch.text, (0,1)).to(device),torch.flip(batch.target, (0,1)).to(device)\n",
    "            hidden = model.init_hidden(BATCH_SIZE)\n",
    "            output, hidden = model(target, hidden)\n",
    "            output = torch.transpose(output, 1, 2)\n",
    "            loss = criterion(output, data)\n",
    "            total_loss += loss.item()\n",
    "    return total_loss/len(test_iter), math.exp(total_loss/len(test_iter))"
   ]
  },
  {
   "cell_type": "code",
   "execution_count": 1,
   "metadata": {},
   "outputs": [],
   "source": [
    "forward_model = LSTMModel(len(TEXT.vocab), emb_size, hidden_size, num_layer, dropout)\n",
    "forward_model.to(device)\n",
    "forward_optimizer = torch.optim.Adam(forward_model.parameters(), lr=learning_rate)\n",
    "forward_criterion = torch.nn.NLLLoss()\n",
    "forward_early_stop = 0\n",
    "forward_early_loss = sys.maxsize\n",
    "\n",
    "for epoch in range(1, epochs+1):\n",
    "    forward_train_loss = train(train_iter, forward_model, forward_optimizer, forward_criterion, BATCH_SIZE, device)\n",
    "    forward_val_loss, forward_perplexity = test(valid_iter, forward_model, forward_criterion, BATCH_SIZE, device)\n",
    "    print('Epoch {}\\nTrain Loss Forward: {}\\nValidation Loss Forward: {}\\nPerplexity Forward: {}'.format(epoch, forward_train_loss, forward_val_loss, forward_perplexity), flush=True)\n",
    "  \n",
    "    if forward_val_loss < forward_early_loss:\n",
    "        forward_early_loss = forward_val_loss\n",
    "        forward_early_stop = 0\n",
    "        forward_wts = forward_model.state_dict()\n",
    "        torch.save(forward_wts,'forward103_model.pt')\n",
    "        \n",
    "    else:\n",
    "        forward_early_stop += 1\n",
    "        if forward_early_stop == 2:\n",
    "            break"
   ]
  },
  {
   "cell_type": "code",
   "execution_count": null,
   "metadata": {},
   "outputs": [],
   "source": [
    "backward_model = LSTMModel(len(TEXT.vocab), emb_size, hidden_size, num_layer, dropout)\n",
    "backward_model.to(device)\n",
    "backward_optimizer = torch.optim.Adam(backward_model.parameters(), lr=learning_rate)\n",
    "backward_criterion = torch.nn.NLLLoss()\n",
    "backward_early_stop = 0\n",
    "backward_early_loss = sys.maxsize\n",
    "\n",
    "for epoch in range(1, epochs+1):\n",
    "    backward_train_loss = backward_train(train_iter, backward_model, backward_optimizer, backward_criterion, BATCH_SIZE, device)\n",
    "    backward_val_loss, backward_perplexity = backward_test(valid_iter, backward_model, backward_criterion, BATCH_SIZE, device)\n",
    "    print('Epoch {}\\nTrain Loss Backward: {}\\nValidation Loss Backward: {}\\nPerplexity Backward: {}'.format(epoch, backward_train_loss, backward_val_loss, backward_perplexity), flush=True)\n",
    "            \n",
    "    if backward_val_loss < backward_early_loss:\n",
    "        backward_early_loss = backward_val_loss\n",
    "        backward_early_stop = 0\n",
    "        backward_wts = backward_model.state_dict()\n",
    "        torch.save(backward_wts,'backward103_model.pt')\n",
    "    else:\n",
    "        backward_early_stop += 1\n",
    "        if backward_early_stop == 2:\n",
    "            break\n"
   ]
  },
  {
   "cell_type": "markdown",
   "metadata": {},
   "source": [
    "## End of training in cluster, subsequent cells are ran here"
   ]
  },
  {
   "cell_type": "code",
   "execution_count": 15,
   "metadata": {},
   "outputs": [],
   "source": [
    "forwardmodel = LSTMModel(len(TEXT.vocab), 256, 256, 2, 0.4)\n",
    "forwardmodel.to(device)\n",
    "forwardmodel.load_state_dict(torch.load('forward103_model.pt', map_location=device))\n"
   ]
  },
  {
   "cell_type": "code",
   "execution_count": 28,
   "metadata": {},
   "outputs": [
    {
     "name": "stdout",
     "output_type": "stream",
     "text": [
      "Found 1 sentence\n",
      "Found 2 sentence\n",
      "Found 3 sentence\n",
      "Found 4 sentence\n",
      "Found 5 sentence\n",
      "<START> in the solomon islands in a siege . <eos>\n"
     ]
    }
   ],
   "source": [
    "from torch.distributions.categorical import Categorical\n",
    "\n",
    "# Beam search for sentence\n",
    "best_beam = 0\n",
    "num_beams = 0\n",
    "best_sentence = ''\n",
    "found_beams = False\n",
    "forwardmodel.eval()\n",
    "while not found_beams:\n",
    "    found = False\n",
    "    num_beams += 1\n",
    "    while not found:\n",
    "        beam_prob = 1\n",
    "        outstr = ''\n",
    "        outstr += TEXT.vocab.itos[TEXT.vocab.stoi['<START>']]\n",
    "        out = torch.Tensor([[TEXT.vocab.stoi['<START>']]]).long().to(device)\n",
    "        hidden = forwardmodel.init_hidden(1)\n",
    "        \n",
    "        for i in range(50):\n",
    "            out, hidden = forwardmodel(out, hidden)\n",
    "            out = torch.exp(out)\n",
    "            m = Categorical(out)\n",
    "            next_out = m.sample()\n",
    "            idx = next_out[0][0]\n",
    "            beam_prob *= out[0][0][idx]\n",
    "            outstr += ' ' + TEXT.vocab.itos[idx]\n",
    "            if TEXT.vocab.itos[idx] == '<eos>':\n",
    "                found = True\n",
    "                print('Found {} sentence'.format(num_beams))\n",
    "                if beam_prob > best_beam:\n",
    "                    best_beam = beam_prob\n",
    "                    best_sentence = outstr\n",
    "                break\n",
    "            out = next_out\n",
    "    if num_beams == 5:\n",
    "        found_beams = True\n",
    "        break\n",
    "        \n",
    "print(best_sentence)"
   ]
  },
  {
   "cell_type": "code",
   "execution_count": 29,
   "metadata": {},
   "outputs": [
    {
     "data": {
      "text/plain": [
       "LSTMModel(\n",
       "  (drop): Dropout(p=0.4)\n",
       "  (encoder): Embedding(50003, 256)\n",
       "  (rnn): LSTM(256, 256, num_layers=2, dropout=0.4)\n",
       "  (decoder): Linear(in_features=256, out_features=50003, bias=True)\n",
       "  (softmax): Softmax()\n",
       ")"
      ]
     },
     "execution_count": 29,
     "metadata": {},
     "output_type": "execute_result"
    }
   ],
   "source": [
    "backwardmodel = LSTMModel(len(TEXT.vocab), 256, 256, 2, 0.4)\n",
    "backwardmodel.to(device)\n",
    "backwardmodel.load_state_dict(torch.load('backward103_model.pt', map_location=device))\n",
    "backwardmodel.eval()"
   ]
  },
  {
   "cell_type": "code",
   "execution_count": 30,
   "metadata": {},
   "outputs": [
    {
     "data": {
      "text/html": [
       "<div>\n",
       "<style>\n",
       "    .dataframe thead tr:only-child th {\n",
       "        text-align: right;\n",
       "    }\n",
       "\n",
       "    .dataframe thead th {\n",
       "        text-align: left;\n",
       "    }\n",
       "\n",
       "    .dataframe tbody tr th {\n",
       "        vertical-align: top;\n",
       "    }\n",
       "</style>\n",
       "<table border=\"1\" class=\"dataframe\">\n",
       "  <thead>\n",
       "    <tr style=\"text-align: right;\">\n",
       "      <th></th>\n",
       "      <th>PhraseId</th>\n",
       "      <th>SentenceId</th>\n",
       "      <th>Phrase</th>\n",
       "      <th>Sentiment</th>\n",
       "      <th>length</th>\n",
       "    </tr>\n",
       "  </thead>\n",
       "  <tbody>\n",
       "    <tr>\n",
       "      <th>0</th>\n",
       "      <td>44878</td>\n",
       "      <td>2177</td>\n",
       "      <td>of a pregnant premise being wasted by a script...</td>\n",
       "      <td>0</td>\n",
       "      <td>24</td>\n",
       "    </tr>\n",
       "    <tr>\n",
       "      <th>1</th>\n",
       "      <td>65677</td>\n",
       "      <td>3329</td>\n",
       "      <td>All comedy is subversive , but this unrelentin...</td>\n",
       "      <td>0</td>\n",
       "      <td>26</td>\n",
       "    </tr>\n",
       "    <tr>\n",
       "      <th>2</th>\n",
       "      <td>102694</td>\n",
       "      <td>5410</td>\n",
       "      <td>dwells on crossing-over mumbo jumbo , manipula...</td>\n",
       "      <td>0</td>\n",
       "      <td>13</td>\n",
       "    </tr>\n",
       "    <tr>\n",
       "      <th>3</th>\n",
       "      <td>4154</td>\n",
       "      <td>156</td>\n",
       "      <td>the kind of lush , all-enveloping movie experi...</td>\n",
       "      <td>1</td>\n",
       "      <td>8</td>\n",
       "    </tr>\n",
       "    <tr>\n",
       "      <th>4</th>\n",
       "      <td>147293</td>\n",
       "      <td>8015</td>\n",
       "      <td>It 's a fine , focused piece of work that reop...</td>\n",
       "      <td>1</td>\n",
       "      <td>20</td>\n",
       "    </tr>\n",
       "  </tbody>\n",
       "</table>\n",
       "</div>"
      ],
      "text/plain": [
       "   PhraseId  SentenceId                                             Phrase  \\\n",
       "0     44878        2177  of a pregnant premise being wasted by a script...   \n",
       "1     65677        3329  All comedy is subversive , but this unrelentin...   \n",
       "2    102694        5410  dwells on crossing-over mumbo jumbo , manipula...   \n",
       "3      4154         156  the kind of lush , all-enveloping movie experi...   \n",
       "4    147293        8015  It 's a fine , focused piece of work that reop...   \n",
       "\n",
       "   Sentiment  length  \n",
       "0          0      24  \n",
       "1          0      26  \n",
       "2          0      13  \n",
       "3          1       8  \n",
       "4          1      20  "
      ]
     },
     "execution_count": 30,
     "metadata": {},
     "output_type": "execute_result"
    }
   ],
   "source": [
    "import pandas as pd\n",
    "import numpy as np\n",
    "from dynamic_rnn import dynamicRNN\n",
    "\n",
    "train_data_split = pd.read_csv('data/train_data_processed.csv')\n",
    "test_data_split = pd.read_csv('data/test_data_processed.csv')\n",
    "train_data_split.head()"
   ]
  },
  {
   "cell_type": "code",
   "execution_count": 3,
   "metadata": {},
   "outputs": [],
   "source": [
    "# From HW1\n",
    "class RNNClassifier(nn.Module):\n",
    "    '''\n",
    "    Transform sentence representations to sentiment label expression\n",
    "    '''\n",
    "    def __init__(self, embed_dim, hidden_dim, output_dim=2):\n",
    "        '''\n",
    "        Args:\n",
    "            embed_dim: embedding dimension, integer\n",
    "            hidden_dim: GRU hidden layer dimension, integer\n",
    "            output_dim: output dimension(label size), integer\n",
    "        '''\n",
    "        super(RNNClassifier, self).__init__()\n",
    "        self.dynRNN = dynamicRNN(embed_dim, hidden_dim)\n",
    "        self.linear = torch.nn.Linear(hidden_dim, output_dim)\n",
    "        self.dropout = torch.nn.Dropout(0.2)\n",
    "        self.log_softmax = torch.nn.LogSoftmax(dim=1)\n",
    "     \n",
    "    def forward(self, text_seq_embs, text_seq_lens):\n",
    "        '''\n",
    "        Args:\n",
    "            text_seq_embs: batch sequences of word embedding, batch_size*sequence_length*embedding_dim\n",
    "            text_seq_lens: actual lengths of each batch sequence, batch_size\n",
    "        '''\n",
    "        ################to be completed##############\n",
    "        #1. Obtain the final hidden states for each sentences using dynamicRNN\n",
    "        x = self.dynRNN(text_seq_embs, text_seq_lens)\n",
    "        #2. Use dropout on the sentence representations\n",
    "        x = self.dropout(x)\n",
    "        #3. Feed the sentence vectors to a fully-connected layer\n",
    "        x = self.linear(x)\n",
    "        #4. Get and return the log softmax values of the output\n",
    "        x = self.log_softmax(x)\n",
    "        return x\n"
   ]
  },
  {
   "cell_type": "code",
   "execution_count": 32,
   "metadata": {},
   "outputs": [],
   "source": [
    "from sklearn.model_selection import train_test_split\n",
    "train_labels = train_data_split.Sentiment.values\n",
    "test_labels = test_data_split.Sentiment.values\n",
    "train_data = train_data_split.Phrase.values\n",
    "test_data = test_data_split.Phrase.values\n",
    "train_data, valid_data, train_labels, valid_labels = train_test_split(train_data, train_labels, test_size=0.20, random_state=42)\n"
   ]
  },
  {
   "cell_type": "code",
   "execution_count": 33,
   "metadata": {},
   "outputs": [],
   "source": [
    "def seq2emb(tokens, TEXT, forwardmodel, backwardmodel, device, max_pad_length=52):\n",
    "    \n",
    "    forwardmodel.eval()\n",
    "    backwardmodel.eval()\n",
    "    with torch.no_grad():\n",
    "        seqvec = [[TEXT.vocab.stoi[word]] for word in tokens]\n",
    "        seqvec += [np.zeros_like(seqvec[0])] * (max_pad_length-len(seqvec))\n",
    "        forward_out = torch.Tensor(seqvec).to(device)\n",
    "        backward_out = torch.flip(forward_out, (0,1))        \n",
    "        forward_hidden = forwardmodel.init_hidden(1)\n",
    "        backward_hidden = backwardmodel.init_hidden(1)\n",
    "        \n",
    "        forward_emb = forwardmodel.encoder(forward_out.long())\n",
    "        forward_emb = forwardmodel.drop(forward_emb)\n",
    "        forward_hidden = forwardmodel.repackage_hidden(forward_hidden)\n",
    "        forward_out, forward_hidden = forwardmodel.rnn(forward_emb, forward_hidden)\n",
    "        \n",
    "        backward_emb = backwardmodel.encoder(backward_out.long())\n",
    "        backward_emb = backwardmodel.drop(backward_emb)\n",
    "        backward_hidden = backwardmodel.repackage_hidden(backward_hidden)\n",
    "        backward_out, backward_hidden = backwardmodel.rnn(backward_emb, backward_hidden)\n",
    "        \n",
    "        forward_out = forward_out.squeeze(1)\n",
    "        backward_out = backward_out.squeeze(1)\n",
    "        rnn_in = torch.cat((forward_out, backward_out), 1)\n",
    "    \n",
    "    return rnn_in\n",
    "\n",
    "def text2emb(texts, TEXT, forwardmodel, backwardmodel, device):\n",
    "    text_seqs = [x.split() for x in texts]\n",
    "    text_lens = torch.LongTensor([len(seq) for seq in text_seqs])\n",
    "    text_seq_embs = [seq2emb(seq, TEXT, forwardmodel, backwardmodel, device) for seq in text_seqs]\n",
    "    text_seq_embs = torch.stack(text_seq_embs, dim=0)\n",
    "    return text_seq_embs, text_lens"
   ]
  },
  {
   "cell_type": "code",
   "execution_count": 41,
   "metadata": {
    "scrolled": true
   },
   "outputs": [
    {
     "name": "stdout",
     "output_type": "stream",
     "text": [
      "Embedding Size: 64\n",
      "Training Loss 0.69\n",
      "Training Loss 0.67\n",
      "Training Loss 0.48\n",
      "Training Loss 0.61\n",
      "Training Loss 0.61\n",
      "Training Loss 0.40\n",
      "Training Loss 0.35\n",
      "Training Loss 0.42\n",
      "Training Loss 0.20\n",
      "Training Loss 0.36\n",
      "Training Loss 0.71\n",
      "Training Loss 0.94\n",
      "Validation Loss 0.50097\n",
      "Training Loss 0.60\n",
      "Training Loss 0.35\n",
      "Training Loss 0.46\n",
      "Training Loss 0.40\n",
      "Training Loss 0.48\n",
      "Training Loss 0.30\n",
      "Training Loss 0.34\n",
      "Training Loss 0.28\n",
      "Training Loss 0.16\n",
      "Training Loss 0.24\n",
      "Training Loss 0.75\n",
      "Training Loss 0.88\n",
      "Validation Loss 0.46561\n",
      "Training Loss 0.53\n",
      "Training Loss 0.32\n",
      "Training Loss 0.37\n",
      "Training Loss 0.42\n",
      "Training Loss 0.39\n",
      "Training Loss 0.29\n",
      "Training Loss 0.53\n",
      "Training Loss 0.26\n",
      "Training Loss 0.12\n",
      "Training Loss 0.16\n",
      "Training Loss 0.70\n",
      "Training Loss 0.83\n",
      "Validation Loss 0.45292\n",
      "Training Loss 0.59\n",
      "Training Loss 0.30\n",
      "Training Loss 0.30\n",
      "Training Loss 0.35\n",
      "Training Loss 0.40\n",
      "Training Loss 0.19\n",
      "Training Loss 0.58\n",
      "Training Loss 0.17\n",
      "Training Loss 0.07\n",
      "Training Loss 0.07\n",
      "Training Loss 0.77\n",
      "Training Loss 0.77\n",
      "Validation Loss 0.45541\n",
      "Training Loss 0.63\n",
      "Training Loss 0.21\n",
      "Training Loss 0.21\n",
      "Training Loss 0.30\n",
      "Training Loss 0.29\n",
      "Training Loss 0.20\n",
      "Training Loss 0.33\n",
      "Training Loss 0.10\n",
      "Training Loss 0.09\n",
      "Training Loss 0.06\n",
      "Training Loss 0.71\n",
      "Training Loss 0.70\n",
      "Validation Loss 0.45507\n",
      "Training Loss 0.62\n",
      "Training Loss 0.13\n",
      "Training Loss 0.15\n",
      "Training Loss 0.21\n",
      "Training Loss 0.38\n",
      "Training Loss 0.09\n",
      "Training Loss 0.16\n",
      "Training Loss 0.03\n",
      "Training Loss 0.05\n",
      "Training Loss 0.06\n",
      "Training Loss 0.58\n",
      "Training Loss 0.39\n",
      "Validation Loss 0.48206\n",
      "Training Loss 0.54\n",
      "Training Loss 0.13\n",
      "Training Loss 0.08\n",
      "Training Loss 0.16\n",
      "Training Loss 0.25\n",
      "Training Loss 0.08\n",
      "Training Loss 0.11\n",
      "Training Loss 0.02\n",
      "Training Loss 0.06\n",
      "Training Loss 0.06\n",
      "Training Loss 0.51\n",
      "Training Loss 0.34\n",
      "Validation Loss 0.44582\n",
      "Embedding Size: 128\n",
      "Training Loss 0.66\n",
      "Training Loss 0.63\n",
      "Training Loss 0.49\n",
      "Training Loss 0.65\n",
      "Training Loss 0.59\n",
      "Training Loss 0.43\n",
      "Training Loss 0.38\n",
      "Training Loss 0.54\n",
      "Training Loss 0.24\n",
      "Training Loss 0.37\n",
      "Training Loss 0.70\n",
      "Training Loss 0.96\n",
      "Validation Loss 0.50150\n",
      "Training Loss 0.55\n",
      "Training Loss 0.33\n",
      "Training Loss 0.42\n",
      "Training Loss 0.49\n",
      "Training Loss 0.48\n",
      "Training Loss 0.32\n",
      "Training Loss 0.34\n",
      "Training Loss 0.37\n",
      "Training Loss 0.14\n",
      "Training Loss 0.22\n",
      "Training Loss 0.73\n",
      "Training Loss 0.89\n",
      "Validation Loss 0.48721\n",
      "Training Loss 0.56\n",
      "Training Loss 0.32\n",
      "Training Loss 0.30\n",
      "Training Loss 0.27\n",
      "Training Loss 0.44\n",
      "Training Loss 0.23\n",
      "Training Loss 0.35\n",
      "Training Loss 0.31\n",
      "Training Loss 0.14\n",
      "Training Loss 0.09\n",
      "Training Loss 0.62\n",
      "Training Loss 0.74\n",
      "Validation Loss 0.47079\n",
      "Training Loss 0.54\n",
      "Training Loss 0.17\n",
      "Training Loss 0.26\n",
      "Training Loss 0.37\n",
      "Training Loss 0.37\n",
      "Training Loss 0.12\n",
      "Training Loss 0.30\n",
      "Training Loss 0.15\n",
      "Training Loss 0.07\n",
      "Training Loss 0.09\n",
      "Training Loss 0.52\n",
      "Training Loss 0.60\n",
      "Validation Loss 0.44675\n",
      "Training Loss 0.59\n",
      "Training Loss 0.16\n",
      "Training Loss 0.17\n",
      "Training Loss 0.40\n",
      "Training Loss 0.41\n",
      "Training Loss 0.05\n",
      "Training Loss 0.20\n",
      "Training Loss 0.06\n",
      "Training Loss 0.08\n",
      "Training Loss 0.09\n",
      "Training Loss 0.43\n",
      "Training Loss 0.60\n",
      "Validation Loss 0.49279\n",
      "Training Loss 0.51\n",
      "Training Loss 0.16\n",
      "Training Loss 0.06\n",
      "Training Loss 0.28\n",
      "Training Loss 0.38\n",
      "Training Loss 0.17\n",
      "Training Loss 0.03\n",
      "Training Loss 0.07\n",
      "Training Loss 0.07\n",
      "Training Loss 0.08\n",
      "Training Loss 0.23\n",
      "Training Loss 0.35\n",
      "Validation Loss 0.47946\n",
      "Training Loss 0.34\n",
      "Training Loss 0.12\n",
      "Training Loss 0.06\n",
      "Training Loss 0.15\n",
      "Training Loss 0.20\n",
      "Training Loss 0.06\n",
      "Training Loss 0.05\n",
      "Training Loss 0.03\n",
      "Training Loss 0.02\n",
      "Training Loss 0.01\n",
      "Training Loss 0.43\n",
      "Training Loss 0.39\n",
      "Validation Loss 0.53257\n",
      "Embedding Size: 256\n",
      "Training Loss 0.65\n",
      "Training Loss 0.66\n",
      "Training Loss 0.51\n",
      "Training Loss 0.66\n",
      "Training Loss 0.60\n",
      "Training Loss 0.42\n",
      "Training Loss 0.40\n",
      "Training Loss 0.54\n",
      "Training Loss 0.22\n",
      "Training Loss 0.36\n",
      "Training Loss 0.77\n",
      "Training Loss 0.99\n",
      "Validation Loss 0.50657\n",
      "Training Loss 0.60\n",
      "Training Loss 0.34\n",
      "Training Loss 0.40\n",
      "Training Loss 0.34\n",
      "Training Loss 0.48\n",
      "Training Loss 0.33\n",
      "Training Loss 0.35\n",
      "Training Loss 0.42\n",
      "Training Loss 0.14\n",
      "Training Loss 0.19\n",
      "Training Loss 0.78\n",
      "Training Loss 1.01\n",
      "Validation Loss 0.47411\n",
      "Training Loss 0.52\n",
      "Training Loss 0.27\n",
      "Training Loss 0.35\n",
      "Training Loss 0.32\n",
      "Training Loss 0.43\n",
      "Training Loss 0.22\n",
      "Training Loss 0.26\n",
      "Training Loss 0.24\n",
      "Training Loss 0.13\n",
      "Training Loss 0.09\n",
      "Training Loss 0.67\n",
      "Training Loss 0.87\n",
      "Validation Loss 0.45394\n",
      "Training Loss 0.52\n",
      "Training Loss 0.17\n",
      "Training Loss 0.31\n",
      "Training Loss 0.29\n",
      "Training Loss 0.38\n",
      "Training Loss 0.11\n",
      "Training Loss 0.13\n",
      "Training Loss 0.06\n",
      "Training Loss 0.16\n",
      "Training Loss 0.07\n",
      "Training Loss 0.69\n",
      "Training Loss 0.78\n",
      "Validation Loss 0.48837\n",
      "Training Loss 0.42\n",
      "Training Loss 0.12\n",
      "Training Loss 0.20\n",
      "Training Loss 0.22\n",
      "Training Loss 0.32\n",
      "Training Loss 0.04\n",
      "Training Loss 0.06\n",
      "Training Loss 0.10\n",
      "Training Loss 0.08\n",
      "Training Loss 0.13\n",
      "Training Loss 0.38\n",
      "Training Loss 0.64\n",
      "Validation Loss 0.46848\n",
      "Training Loss 0.60\n",
      "Training Loss 0.08\n",
      "Training Loss 0.08\n",
      "Training Loss 0.09\n",
      "Training Loss 0.21\n",
      "Training Loss 0.28\n",
      "Training Loss 0.02\n",
      "Training Loss 0.03\n",
      "Training Loss 0.08\n",
      "Training Loss 0.01\n",
      "Training Loss 0.35\n",
      "Training Loss 0.51\n",
      "Validation Loss 0.48514\n",
      "Training Loss 0.35\n",
      "Training Loss 0.04\n",
      "Training Loss 0.02\n",
      "Training Loss 0.11\n",
      "Training Loss 0.21\n",
      "Training Loss 0.01\n",
      "Training Loss 0.03\n",
      "Training Loss 0.02\n",
      "Training Loss 0.03\n",
      "Training Loss 0.00\n",
      "Training Loss 0.24\n",
      "Training Loss 0.42\n",
      "Validation Loss 0.44962\n"
     ]
    }
   ],
   "source": [
    "batch_size = 8\n",
    "epochs = 7\n",
    "max_len = 52\n",
    "all_costs = []\n",
    "all_val_loss = []\n",
    "lstm_emb_size = 256*2\n",
    "\n",
    "emb_sizes = [64,128,256]\n",
    "best_model = None\n",
    "best_loss = sys.maxsize\n",
    "for emb_size in emb_sizes:\n",
    "    print('Embedding Size: {}'.format(emb_size))\n",
    "    torch.manual_seed(1)\n",
    "    classifier = RNNClassifier(lstm_emb_size, emb_size)\n",
    "    classifier.to(device)\n",
    "    optimizer = torch.optim.Adam(classifier.parameters(), lr=0.001)\n",
    "    loss_func = torch.nn.NLLLoss()\n",
    "    costs = []\n",
    "    valid_losses = []\n",
    "    for epoch in range(epochs):\n",
    "        cost = 0\n",
    "        classifier.train()\n",
    "        for i in range(0, len(train_data), batch_size):\n",
    "            classifier.zero_grad()\n",
    "            rnn_in_emb, rnn_in_len = text2emb(train_data[i:i+batch_size], TEXT, forwardmodel, backwardmodel, device)\n",
    "            target = torch.LongTensor(train_labels[i:i+batch_size]).to(device)\n",
    "            pred_probs = classifier(rnn_in_emb, rnn_in_len)\n",
    "            loss = loss_func(pred_probs, target)\n",
    "            loss.backward()\n",
    "            optimizer.step()\n",
    "            cost += loss.item()\n",
    "            if i % 500 == 0:\n",
    "                if i>0:\n",
    "                    costs.append(cost/500)\n",
    "                cost = 0\n",
    "                print('Training Loss {:.2f}'.format(loss))\n",
    "\n",
    "        val_loss = 0\n",
    "        classifier.eval()\n",
    "        with torch.no_grad():\n",
    "            for i in range(0, len(valid_data), batch_size):\n",
    "                classifier.zero_grad()\n",
    "                rnn_in_emb, rnn_in_len = text2emb(valid_data[i:i+batch_size], TEXT, forwardmodel, backwardmodel, device)\n",
    "                target = torch.LongTensor(valid_labels[i:i+batch_size]).to(device)\n",
    "                pred_probs = classifier(rnn_in_emb, rnn_in_len)\n",
    "                loss = loss_func(pred_probs, target)\n",
    "                val_loss += loss.item()\n",
    "        valid_losses.append(val_loss/len(valid_data)*batch_size)\n",
    "        print('Validation Loss {:.5f}'.format(val_loss/len(valid_data)*batch_size))\n",
    "        if val_loss < best_loss:\n",
    "            best_loss = val_loss\n",
    "            best_model = classifier\n",
    "    all_costs.append(costs)\n",
    "    all_val_loss.append(valid_losses)"
   ]
  },
  {
   "cell_type": "code",
   "execution_count": 42,
   "metadata": {},
   "outputs": [
    {
     "data": {
      "image/png": "[encoded data removed]",
      "text/plain": [
       "<Figure size 1440x360 with 3 Axes>"
      ]
     },
     "metadata": {
      "needs_background": "light"
     },
     "output_type": "display_data"
    }
   ],
   "source": [
    "import matplotlib.pyplot as plt\n",
    "plt.figure(figsize= (20,5))\n",
    "plt.subplot(1,3,1)\n",
    "plt.title('Average Loss of RNN Classifier Emb64')\n",
    "plt.ylabel('Loss')\n",
    "plt.plot(range(len(all_costs[0])), all_costs[0])\n",
    "\n",
    "plt.subplot(1,3,2)\n",
    "plt.title('Average Loss of RNN Classifier Emb128')\n",
    "plt.ylabel('Loss')\n",
    "plt.plot(range(len(all_costs[1])), all_costs[1])\n",
    "\n",
    "plt.subplot(1,3,3)\n",
    "plt.title('Average Loss of RNN Classifier Emb256')\n",
    "plt.ylabel('Loss')\n",
    "plt.plot(range(len(all_costs[2])), all_costs[2])\n",
    "\n",
    "plt.show()"
   ]
  },
  {
   "cell_type": "code",
   "execution_count": 43,
   "metadata": {},
   "outputs": [
    {
     "data": {
      "image/png": "[encoded data removed]",
      "text/plain": [
       "<Figure size 1440x360 with 3 Axes>"
      ]
     },
     "metadata": {
      "needs_background": "light"
     },
     "output_type": "display_data"
    }
   ],
   "source": [
    "plt.figure(figsize= (20,5))\n",
    "plt.subplot(1,3,1)\n",
    "plt.title('Validation Loss of RNN Classifier Emb64')\n",
    "plt.ylabel('Loss')\n",
    "plt.plot(range(len(all_val_loss[0])), all_val_loss[0])\n",
    "\n",
    "plt.subplot(1,3,2)\n",
    "plt.title('Validation Loss of RNN Classifier Emb128')\n",
    "plt.ylabel('Loss')\n",
    "plt.plot(range(len(all_val_loss[1])), all_val_loss[1])\n",
    "\n",
    "plt.subplot(1,3,3)\n",
    "plt.title('Validation Loss of RNN Classifier Emb256')\n",
    "plt.ylabel('Loss')\n",
    "plt.plot(range(len(all_val_loss[2])), all_val_loss[2])\n",
    "\n",
    "plt.show()"
   ]
  },
  {
   "cell_type": "code",
   "execution_count": 48,
   "metadata": {},
   "outputs": [
    {
     "data": {
      "text/plain": [
       "RNNClassifier(\n",
       "  (dynRNN): dynamicRNN(\n",
       "    (rnn): GRU(512, 64, batch_first=True)\n",
       "  )\n",
       "  (linear): Linear(in_features=64, out_features=2, bias=True)\n",
       "  (dropout): Dropout(p=0.2)\n",
       "  (log_softmax): LogSoftmax()\n",
       ")"
      ]
     },
     "execution_count": 48,
     "metadata": {},
     "output_type": "execute_result"
    }
   ],
   "source": [
    "# Saving model as checkpoint for reusing later on\n",
    "best_model_wts = best_model.state_dict()\n",
    "torch.save(best_model_wts,'best_optional_model.pt')\n",
    "best_model.eval()"
   ]
  },
  {
   "cell_type": "code",
   "execution_count": 49,
   "metadata": {},
   "outputs": [
    {
     "name": "stdout",
     "output_type": "stream",
     "text": [
      "Test Loss 0.42007\n",
      "Accuracy: 838/1000 (0.838)\n"
     ]
    }
   ],
   "source": [
    "test_loss = 0\n",
    "num_correct = 0\n",
    "with torch.no_grad():\n",
    "    for i in range(0, len(test_data), batch_size):\n",
    "        classifier.zero_grad()\n",
    "        rnn_in_emb, rnn_in_len = text2emb(test_data[i:i+batch_size], TEXT, forwardmodel, backwardmodel, device)\n",
    "        target = torch.LongTensor(test_labels[i:i+batch_size]).to(device)\n",
    "        pred_probs = best_model(rnn_in_emb, rnn_in_len)\n",
    "        pred = torch.exp(pred_probs).argmax(dim=1)\n",
    "        loss = loss_func(pred_probs, target)\n",
    "        for j in range(len(target)):\n",
    "            if pred[j] == target[j]:\n",
    "                num_correct += 1\n",
    "        test_loss += loss.item()\n",
    "print('Test Loss {:.5f}'.format(test_loss/len(test_data)*batch_size))\n",
    "print('Accuracy: {}/{} ({})'.format(num_correct, len(test_data), num_correct/len(test_data)))"
   ]
  },
  {
   "cell_type": "markdown",
   "metadata": {},
   "source": [
    "## Restarted doing work from here by reloading the models"
   ]
  },
  {
   "cell_type": "code",
   "execution_count": 6,
   "metadata": {},
   "outputs": [],
   "source": [
    "from dynamic_rnn import dynamicRNN\n",
    "device = torch.device('cuda')\n",
    "best_model = RNNClassifier(256*2, 64)\n",
    "best_model.to(device)\n",
    "best_model.load_state_dict(torch.load('best_optional_model.pt', map_location=device))"
   ]
  },
  {
   "cell_type": "code",
   "execution_count": 9,
   "metadata": {},
   "outputs": [
    {
     "data": {
      "text/plain": [
       "LSTMModel(\n",
       "  (drop): Dropout(p=0.4)\n",
       "  (encoder): Embedding(50003, 256)\n",
       "  (rnn): LSTM(256, 256, num_layers=2, dropout=0.4)\n",
       "  (decoder): Linear(in_features=256, out_features=50003, bias=True)\n",
       "  (softmax): Softmax()\n",
       ")"
      ]
     },
     "execution_count": 9,
     "metadata": {},
     "output_type": "execute_result"
    }
   ],
   "source": [
    "backwardmodel = LSTMModel(50003, 256, 256, 2, 0.4)\n",
    "backwardmodel.to(device)\n",
    "backwardmodel.load_state_dict(torch.load('backward103_model.pt', map_location=device))\n",
    "backwardmodel.eval()\n",
    "\n",
    "forwardmodel = LSTMModel(50003, 256, 256, 2, 0.4)\n",
    "forwardmodel.to(device)\n",
    "forwardmodel.load_state_dict(torch.load('forward103_model.pt', map_location=device))\n",
    "forwardmodel.eval()"
   ]
  },
  {
   "cell_type": "code",
   "execution_count": 10,
   "metadata": {},
   "outputs": [],
   "source": [
    "# Taken from http://www.manythings.org/audio/sentences/353.html and https://sentence.yourdictionary.com/play\n",
    "play_sentence = ['Play it cool.',\n",
    "                'I play the piano.',\n",
    "                'I can play tennis.',\n",
    "                'I play the violin.',\n",
    "                'We play on Sunday.',\n",
    "                'Do you play soccer?',\n",
    "                'Does she play piano?',\n",
    "                'He can play a flute.',\n",
    "                'Let\\'s play baseball.',\n",
    "                'I saw Tom play tennis.',\n",
    "                'She acted in the play.',\n",
    "                'The play was based on a true story.',\n",
    "                'She acted in a play for the first time.',\n",
    "                'He showed me the manuscript of his new play.',\n",
    "                'Now play time with my frightened friend will be hurried.',\n",
    "                'Randy asked about Fred, and Dean related Fred\\'s latest exploits with the bargains from the props of the play Boo!',\n",
    "                'The play seemed so real, we almost forgot where we were, and believed we were watching the genuine scenes as they were acted so long ago.',\n",
    "                'Thinking that turn and turn about is fair play, she seized the scissors and cut off one of my curls, and would have cut them all off but for my mother\\'s timely interference.',\n",
    "                'After the play Miss Sullivan took me to see him behind the scenes, and I felt of his curious garb and his flowing hair and beard.',\n",
    "                'I shall never forget the ripple of alternating joy and woe that ran through that beautiful little play, or the wonderful child who acted it.']"
   ]
  },
  {
   "cell_type": "code",
   "execution_count": 41,
   "metadata": {},
   "outputs": [
    {
     "data": {
      "image/png": "[encoded data removed]",
      "text/plain": [
       "<Figure size 720x720 with 1 Axes>"
      ]
     },
     "metadata": {
      "needs_background": "light"
     },
     "output_type": "display_data"
    }
   ],
   "source": [
    "import matplotlib.pyplot as plt\n",
    "import numpy as np\n",
    "from sklearn.decomposition import PCA\n",
    "\n",
    "\n",
    "#Visualize the transformed word embeddings and annotate them with words.\n",
    "def plot(embeddings, labels):\n",
    "    assert embeddings.shape[0] >= len(labels), 'More labels than embeddings'\n",
    "    plt.figure(figsize=(10,10))  # in inches\n",
    "    for i, label in enumerate(labels):\n",
    "        x, y = embeddings[i,:]\n",
    "        plt.scatter(x, y)\n",
    "        plt.annotate(label, xy=(x, y), xytext=(5, 2), textcoords='offset points',\n",
    "                       ha='right', va='bottom')\n",
    "\n",
    "all_sentences = []\n",
    "for sentence in play_sentence:\n",
    "    with torch.no_grad():\n",
    "        rnn_in_emb, rnn_in_len = text2emb([sentence], TEXT, forwardmodel, backwardmodel, device)\n",
    "        all_sentences.append(rnn_in_emb.cpu().detach().numpy()[0])\n",
    "\n",
    "all_sentences = np.array(all_sentences).reshape((20,-1))\n",
    "\n",
    "pca=PCA(n_components=2)\n",
    "\n",
    "two_d_embeddings = pca.fit_transform(all_sentences)\n",
    "# The first 10 sentences were verbs and the next 10 were nouns\n",
    "labels = ['verb']*10 + ['noun']*10\n",
    "                     \n",
    "plot(two_d_embeddings, labels)"
   ]
  },
  {
   "cell_type": "markdown",
   "metadata": {},
   "source": [
    "## We can see that the points are somewhat clustered. With some points being not so clear a the bottom left"
   ]
  },
  {
   "cell_type": "markdown",
   "metadata": {
    "colab_type": "text",
    "collapsed": true,
    "id": "9LeYtjchvcDy"
   },
   "source": [
    "### Requirements:\n",
    "- This is an individual report.\n",
    "- Complete the code using Python.\n",
    "- List students with whom you have discussed if there are any.\n",
    "- Follow the honor code strictly."
   ]
  },
  {
   "cell_type": "markdown",
   "metadata": {
    "colab_type": "text",
    "id": "z6eDFs6IvcD0"
   },
   "source": [
    "### Free GPU Resources\n",
    "We suggest that you run neural language models on machines with GPU(s). Google provides the free online platform [Colaboratory](https://colab.research.google.com/notebooks/welcome.ipynb), a research tool for machine learning education and research. It’s a Jupyter notebook environment that requires no setup to use as common packages have been  pre-installed. Google users can have access to a Tesla T4 GPU (approximately 15G memory). Note that when you connect to a GPU-based VM runtime, you are given a maximum of 12 hours at a time on the VM.\n",
    "\n",
    "It is convenient to upload local Jupyter Notebook files and data to Colab, please refer to the [tutorial](https://colab.research.google.com/notebooks/io.ipynb). \n",
    "\n",
    "In addition, Microsoft also provides the online platform [Azure Notebooks](https://notebooks.azure.com/help/introduction) for research of data science and machine learning, there are free trials for new users with credits."
   ]
  }
 ],
 "metadata": {
  "accelerator": "GPU",
  "colab": {
   "collapsed_sections": [],
   "name": "mini project.ipynb",
   "provenance": [],
   "toc_visible": true,
   "version": "0.3.2"
  },
  "kernelspec": {
   "display_name": "Python 3",
   "language": "python",
   "name": "python3"
  },
  "language_info": {
   "codemirror_mode": {
    "name": "ipython",
    "version": 3
   },
   "file_extension": ".py",
   "mimetype": "text/x-python",
   "name": "python",
   "nbconvert_exporter": "python",
   "pygments_lexer": "ipython3",
   "version": "3.6.8"
  }
 },
 "nbformat": 4,
 "nbformat_minor": 1
}
